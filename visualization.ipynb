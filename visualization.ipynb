{
 "cells": [
  {
   "cell_type": "code",
   "execution_count": 1,
   "metadata": {},
   "outputs": [],
   "source": [
    "from src.models.siren import SirenModel"
   ]
  },
  {
   "cell_type": "code",
   "execution_count": 2,
   "metadata": {},
   "outputs": [
    {
     "name": "stdout",
     "output_type": "stream",
     "text": [
      "Model initialized\n",
      "Layer 1: SirenLayer(\n",
      "  (linear): Linear(in_features=2, out_features=256, bias=True)\n",
      ")\n",
      "Bias: Parameter containing:\n",
      "tensor([-0.6700, -0.1606, -0.0025,  0.2536,  0.4526, -0.2029, -0.6334,  0.0269,\n",
      "         0.3145, -0.1252,  0.5901,  0.6595,  0.0737,  0.6985,  0.5844,  0.4448,\n",
      "        -0.3322,  0.4990, -0.4167,  0.5975,  0.2644, -0.2256,  0.4710,  0.5414,\n",
      "        -0.3834, -0.5285,  0.5031, -0.3842, -0.6362, -0.6607, -0.0436,  0.1803,\n",
      "         0.0487,  0.2676, -0.0853,  0.2975,  0.5851, -0.0794, -0.4763, -0.3932,\n",
      "         0.0259, -0.2987,  0.4753, -0.1617, -0.4156,  0.4891,  0.3292,  0.2525,\n",
      "         0.4246, -0.2091, -0.4607,  0.3130, -0.3174, -0.6131,  0.0764,  0.3652,\n",
      "        -0.6608, -0.0151,  0.5764,  0.3922, -0.3396, -0.2735, -0.6380,  0.5625,\n",
      "         0.0098, -0.1009, -0.2450,  0.3814, -0.3004, -0.2152,  0.1548, -0.4019,\n",
      "         0.5282, -0.3840, -0.6009,  0.3372, -0.5890, -0.1842,  0.5263, -0.6743,\n",
      "        -0.0366, -0.1508,  0.5917,  0.6003, -0.4640, -0.3274,  0.4731,  0.1257,\n",
      "         0.1602,  0.0388, -0.5187,  0.6150,  0.5777, -0.2994,  0.6158, -0.2278,\n",
      "         0.2050,  0.0940, -0.2364,  0.0086,  0.1188, -0.7018,  0.2099,  0.2818,\n",
      "        -0.1294, -0.3061,  0.0069, -0.3018, -0.4583,  0.5385,  0.5545, -0.0422,\n",
      "         0.6448,  0.3032, -0.6300,  0.5952,  0.5302, -0.5251,  0.0544, -0.7007,\n",
      "        -0.5119, -0.0985,  0.1044,  0.0356,  0.6051,  0.4661, -0.0185,  0.5654,\n",
      "         0.0079, -0.5015, -0.4898,  0.4213, -0.5977, -0.3097,  0.4137, -0.4414,\n",
      "        -0.6259,  0.3431,  0.7043,  0.2429,  0.0586,  0.6266,  0.0506,  0.5014,\n",
      "         0.5212, -0.6308, -0.3656, -0.3605,  0.4428,  0.4139, -0.5273, -0.5772,\n",
      "         0.5983,  0.6941, -0.3309,  0.4956, -0.5283,  0.1726,  0.3725, -0.1145,\n",
      "         0.3711, -0.5227, -0.3311, -0.5234,  0.6418,  0.0849,  0.0276,  0.2340,\n",
      "        -0.2688, -0.0437,  0.4509,  0.6319,  0.0948, -0.6372,  0.2650,  0.6814,\n",
      "         0.4608,  0.4043, -0.0545,  0.1734,  0.1747,  0.6354, -0.3986,  0.6172,\n",
      "        -0.1244, -0.4334, -0.1244, -0.6388, -0.2044, -0.3493,  0.5429,  0.1660,\n",
      "        -0.4186, -0.1153, -0.4526, -0.4069, -0.3729, -0.5886,  0.6686, -0.0504,\n",
      "        -0.6181, -0.2462,  0.6373, -0.0405,  0.4766,  0.2071, -0.1615, -0.1602,\n",
      "         0.2324,  0.5554,  0.0072, -0.1490, -0.3543,  0.1154, -0.5719, -0.5602,\n",
      "         0.1399,  0.3747,  0.6729,  0.4941, -0.1036,  0.4130, -0.0151,  0.4071,\n",
      "         0.6515,  0.6447, -0.2274, -0.5183, -0.6898,  0.4249,  0.3631,  0.6029,\n",
      "         0.2999, -0.5368,  0.3694, -0.1709, -0.6012, -0.4039,  0.3577,  0.3685,\n",
      "         0.1798, -0.3291,  0.2691,  0.4132,  0.3395,  0.4499,  0.1104, -0.2848,\n",
      "        -0.2211, -0.5880,  0.6522, -0.2906, -0.2194,  0.2927,  0.6058, -0.1835],\n",
      "       requires_grad=True)\n",
      "Bias_len: 256\n",
      "Bias shape: torch.Size([256])\n"
     ]
    }
   ],
   "source": [
    "s = SirenModel()"
   ]
  },
  {
   "cell_type": "code",
   "execution_count": 3,
   "metadata": {},
   "outputs": [],
   "source": [
    "from PIL import Image\n",
    "\n",
    "image_path = '/Users/arkadipiven/Documents/Code/functa/rendered/chair/0bc2011018e2463ca119ebce4e15a94b/000.png'\n",
    "image = Image.open(image_path).convert(\"RGB\")\n",
    "image.show()"
   ]
  },
  {
   "cell_type": "code",
   "execution_count": 4,
   "metadata": {},
   "outputs": [
    {
     "name": "stdout",
     "output_type": "stream",
     "text": [
      "(512, 512)\n"
     ]
    }
   ],
   "source": [
    "print(image.size)"
   ]
  },
  {
   "cell_type": "code",
   "execution_count": 5,
   "metadata": {},
   "outputs": [
    {
     "name": "stdout",
     "output_type": "stream",
     "text": [
      "(512, 512, 3)\n"
     ]
    }
   ],
   "source": [
    "import numpy as np\n",
    "\n",
    "image_array = np.array(image)\n",
    "print(image_array.shape)"
   ]
  },
  {
   "cell_type": "code",
   "execution_count": 6,
   "metadata": {},
   "outputs": [],
   "source": [
    "image_rgb = image.convert(\"RGB\")"
   ]
  },
  {
   "cell_type": "code",
   "execution_count": 7,
   "metadata": {},
   "outputs": [
    {
     "name": "stdout",
     "output_type": "stream",
     "text": [
      "(512, 512, 3)\n"
     ]
    }
   ],
   "source": [
    "image_array = np.array(image_rgb)\n",
    "print(image_array.shape)"
   ]
  },
  {
   "cell_type": "code",
   "execution_count": 8,
   "metadata": {},
   "outputs": [
    {
     "name": "stdout",
     "output_type": "stream",
     "text": [
      "[0 0 0]\n"
     ]
    }
   ],
   "source": [
    "print(image_array[0][0])"
   ]
  },
  {
   "cell_type": "code",
   "execution_count": 9,
   "metadata": {},
   "outputs": [
    {
     "name": "stdout",
     "output_type": "stream",
     "text": [
      "Chairs dataset initialized\n"
     ]
    }
   ],
   "source": [
    "from src.datasets.chairs import Chairs\n",
    "\n",
    "cd = Chairs(\"/Users/arkadipiven/Documents/Code/functa/rendered/chair\")"
   ]
  },
  {
   "cell_type": "code",
   "execution_count": 10,
   "metadata": {},
   "outputs": [
    {
     "name": "stdout",
     "output_type": "stream",
     "text": [
      "(array([0, 0, 0], dtype=uint8), array([0, 0, 0], dtype=uint8), 488, 1)\n"
     ]
    }
   ],
   "source": [
    "print(cd[1000])"
   ]
  },
  {
   "cell_type": "code",
   "execution_count": 19,
   "metadata": {},
   "outputs": [
    {
     "name": "stdout",
     "output_type": "stream",
     "text": [
      "(array([1, 1, 1], dtype=uint8), array([1, 1, 1], dtype=uint8), 476, 2)\n"
     ]
    }
   ],
   "source": [
    "print(cd[1500])"
   ]
  }
 ],
 "metadata": {
  "kernelspec": {
   "display_name": "functa",
   "language": "python",
   "name": "python3"
  },
  "language_info": {
   "codemirror_mode": {
    "name": "ipython",
    "version": 3
   },
   "file_extension": ".py",
   "mimetype": "text/x-python",
   "name": "python",
   "nbconvert_exporter": "python",
   "pygments_lexer": "ipython3",
   "version": "3.10.14"
  }
 },
 "nbformat": 4,
 "nbformat_minor": 2
}
