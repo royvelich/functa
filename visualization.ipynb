{
 "cells": [
  {
   "cell_type": "code",
   "execution_count": 25,
   "metadata": {},
   "outputs": [],
   "source": [
    "from src.models.modulated_siren import ModulatedSirenModel\n",
    "import torch"
   ]
  },
  {
   "cell_type": "code",
   "execution_count": 26,
   "metadata": {},
   "outputs": [
    {
     "name": "stdout",
     "output_type": "stream",
     "text": [
      "Model initialized\n",
      "Layer 1: SirenLayer(\n",
      "  (linear): Linear(in_features=2, out_features=16, bias=True)\n",
      ")\n",
      "Layer 2: SirenLayer(\n",
      "  (linear): Linear(in_features=16, out_features=3, bias=True)\n",
      ")\n",
      "Bias: Parameter containing:\n",
      "tensor([-0.0653, -0.1203,  0.1965,  0.2199, -0.5381, -0.5614,  0.3566,  0.3372,\n",
      "        -0.0931, -0.0901,  0.3083,  0.6350,  0.3718,  0.3416, -0.4769,  0.2205],\n",
      "       requires_grad=True)\n",
      "Bias_len: 16\n",
      "Bias shape: torch.Size([16])\n"
     ]
    }
   ],
   "source": [
    "s = ModulatedSirenModel()"
   ]
  },
  {
   "cell_type": "code",
   "execution_count": 27,
   "metadata": {},
   "outputs": [],
   "source": [
    "from PIL import Image\n",
    "\n",
    "image_path = '/Users/arkadipiven/Documents/Code/functa/rendered/chair/0bc2011018e2463ca119ebce4e15a94b/000.png'\n",
    "image = Image.open(image_path).convert(\"RGB\")"
   ]
  },
  {
   "cell_type": "code",
   "execution_count": 28,
   "metadata": {},
   "outputs": [
    {
     "name": "stdout",
     "output_type": "stream",
     "text": [
      "(512, 512)\n"
     ]
    }
   ],
   "source": [
    "print(image.size)"
   ]
  },
  {
   "cell_type": "code",
   "execution_count": 29,
   "metadata": {},
   "outputs": [
    {
     "name": "stdout",
     "output_type": "stream",
     "text": [
      "(512, 512, 3)\n"
     ]
    }
   ],
   "source": [
    "import numpy as np\n",
    "\n",
    "image_array = np.array(image)\n",
    "print(image_array.shape)"
   ]
  },
  {
   "cell_type": "code",
   "execution_count": 30,
   "metadata": {},
   "outputs": [],
   "source": [
    "image_rgb = image.convert(\"RGB\")"
   ]
  },
  {
   "cell_type": "code",
   "execution_count": 31,
   "metadata": {},
   "outputs": [
    {
     "name": "stdout",
     "output_type": "stream",
     "text": [
      "(512, 512, 3)\n"
     ]
    }
   ],
   "source": [
    "image_array = np.array(image_rgb)\n",
    "print(image_array.shape)"
   ]
  },
  {
   "cell_type": "code",
   "execution_count": 32,
   "metadata": {},
   "outputs": [
    {
     "name": "stdout",
     "output_type": "stream",
     "text": [
      "[0 0 0]\n"
     ]
    }
   ],
   "source": [
    "print(image_array[0][0])"
   ]
  },
  {
   "cell_type": "code",
   "execution_count": 33,
   "metadata": {},
   "outputs": [
    {
     "name": "stdout",
     "output_type": "stream",
     "text": [
      "Chairs dataset initialized\n"
     ]
    }
   ],
   "source": [
    "from src.datasets.chairs import Chairs\n",
    "\n",
    "cd = Chairs(\"/Users/arkadipiven/Documents/Code/functa/rendered/chair\")"
   ]
  },
  {
   "cell_type": "code",
   "execution_count": 51,
   "metadata": {},
   "outputs": [
    {
     "name": "stdout",
     "output_type": "stream",
     "text": [
      "torch.Size([262144, 2])\n",
      "tensor([[  0.,   0.],\n",
      "        [  1.,   0.],\n",
      "        [  2.,   0.],\n",
      "        ...,\n",
      "        [509., 511.],\n",
      "        [510., 511.],\n",
      "        [511., 511.]])\n",
      "tensor([[ 0.6025,  0.9461,  0.2877],\n",
      "        [-0.2260,  0.7866,  0.5828],\n",
      "        [ 0.4106,  0.9479, -0.5832],\n",
      "        ...,\n",
      "        [-0.0316,  0.4697,  0.1416],\n",
      "        [ 0.3046,  0.9991,  0.7341],\n",
      "        [-0.1286,  0.6190,  0.9047]], grad_fn=<SinBackward0>)\n"
     ]
    },
    {
     "data": {
      "text/plain": [
       "tensor(2690.5525, grad_fn=<MseLossBackward0>)"
      ]
     },
     "execution_count": 51,
     "metadata": {},
     "output_type": "execute_result"
    }
   ],
   "source": [
    "chair_1, chair_2 = cd[5]\n",
    "\n",
    "x = np.arange(512)\n",
    "y = np.arange(512)\n",
    "xx, yy = np.meshgrid(x, y)\n",
    "\n",
    "coordinates = np.stack([xx, yy], axis=-1)\n",
    "coordinates_tensor = torch.tensor(coordinates, dtype=torch.float32).unsqueeze(0)\n",
    "coordinates_tensor = coordinates_tensor.reshape(-1, 2)\n",
    "print(coordinates_tensor.shape)\n",
    "print(coordinates_tensor)\n",
    "\n",
    "y_hat = s(coordinates_tensor)\n",
    "print(y_hat)\n",
    "loss = torch.nn.functional.mse_loss(y_hat, chair_1.reshape(-1, 3))\n",
    "loss\n",
    "\n",
    "# s.forward(chair_1)"
   ]
  },
  {
   "cell_type": "code",
   "execution_count": 22,
   "metadata": {},
   "outputs": [
    {
     "ename": "IndexError",
     "evalue": "list index out of range",
     "output_type": "error",
     "traceback": [
      "\u001b[0;31m---------------------------------------------------------------------------\u001b[0m",
      "\u001b[0;31mIndexError\u001b[0m                                Traceback (most recent call last)",
      "Cell \u001b[0;32mIn[22], line 1\u001b[0m\n\u001b[0;32m----> 1\u001b[0m \u001b[38;5;28mprint\u001b[39m(\u001b[43mcd\u001b[49m\u001b[43m[\u001b[49m\u001b[38;5;241;43m1500\u001b[39;49m\u001b[43m]\u001b[49m)\n",
      "File \u001b[0;32m~/Documents/Code/functa/src/datasets/chairs.py:22\u001b[0m, in \u001b[0;36mChairs.__getitem__\u001b[0;34m(self, idx)\u001b[0m\n\u001b[1;32m     20\u001b[0m \u001b[38;5;28;01mdef\u001b[39;00m \u001b[38;5;21m__getitem__\u001b[39m(\u001b[38;5;28mself\u001b[39m, idx):\n\u001b[0;32m---> 22\u001b[0m     chair_folder \u001b[38;5;241m=\u001b[39m \u001b[38;5;28;43mself\u001b[39;49m\u001b[38;5;241;43m.\u001b[39;49m\u001b[43mchairs\u001b[49m\u001b[43m[\u001b[49m\u001b[43midx\u001b[49m\u001b[43m]\u001b[49m\n\u001b[1;32m     23\u001b[0m     chair_path \u001b[38;5;241m=\u001b[39m os\u001b[38;5;241m.\u001b[39mpath\u001b[38;5;241m.\u001b[39mjoin(\u001b[38;5;28mself\u001b[39m\u001b[38;5;241m.\u001b[39mpath, chair_folder)\n\u001b[1;32m     25\u001b[0m     chair_1 \u001b[38;5;241m=\u001b[39m os\u001b[38;5;241m.\u001b[39mpath\u001b[38;5;241m.\u001b[39mjoin(chair_path, \u001b[38;5;124mf\u001b[39m\u001b[38;5;124m\"\u001b[39m\u001b[38;5;132;01m{\u001b[39;00m\u001b[38;5;28mself\u001b[39m\u001b[38;5;241m.\u001b[39mtheta_1\u001b[38;5;132;01m}\u001b[39;00m\u001b[38;5;124m.png\u001b[39m\u001b[38;5;124m\"\u001b[39m)\n",
      "\u001b[0;31mIndexError\u001b[0m: list index out of range"
     ]
    }
   ],
   "source": [
    "print(cd[1500])"
   ]
  }
 ],
 "metadata": {
  "kernelspec": {
   "display_name": "functa",
   "language": "python",
   "name": "python3"
  },
  "language_info": {
   "codemirror_mode": {
    "name": "ipython",
    "version": 3
   },
   "file_extension": ".py",
   "mimetype": "text/x-python",
   "name": "python",
   "nbconvert_exporter": "python",
   "pygments_lexer": "ipython3",
   "version": "3.10.14"
  }
 },
 "nbformat": 4,
 "nbformat_minor": 2
}
